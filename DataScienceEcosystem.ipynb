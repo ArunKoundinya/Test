{
    "cells": [
        {
            "metadata": {
                "collapsed": true
            },
            "cell_type": "markdown",
            "source": "# Data Science Tools and Ecosystem"
        },
        {
            "metadata": {},
            "cell_type": "markdown",
            "source": "In this notebook, Data Science Tools and Ecosystem are summarized"
        },
        {
            "metadata": {},
            "cell_type": "markdown",
            "source": "Some of the popular languages that Data Scientists use are:\n<ol>\n    <li>R</li>\n    <li>Python</li>\n    <li>SQL</li>\n    <li>Julia</li>\n    <li>Java</li>\n    <li>C/C++</li>\n</ol>"
        },
        {
            "metadata": {},
            "cell_type": "markdown",
            "source": "Some of the commonly used libraries used by Data Scientists include:\n<ul>\n    <li>Pandas</li>\n    <li>Numpy</li>\n    <li>Keras</li>\n    <li>Tensorflow</li>\n    <li>Scikit-Learn</li>\n    <li>Ggplot</li>\n</ul>"
        },
        {
            "metadata": {},
            "cell_type": "markdown",
            "source": "| Data Science Tools        |\n| ------------- |\n| Jupyter Notebook    |\n| RStudio      |\n| IBM Watson Studio |"
        },
        {
            "metadata": {},
            "cell_type": "markdown",
            "source": "### Below are a few examples of evaluating arithmetic expressions in Python:"
        },
        {
            "metadata": {},
            "cell_type": "code",
            "source": "def multipy(num1,num2):\n    return num1*num2\n\ndef addition(num1,num2):\n    return num1+num2\n\ndef multipy_add(num1,num2,num3):\n    return addition(multipy(num1,num2),num3)\n\nmultipy_add(3,4,5)",
            "execution_count": 1,
            "outputs": [
                {
                    "output_type": "execute_result",
                    "execution_count": 1,
                    "data": {
                        "text/plain": "17"
                    },
                    "metadata": {}
                }
            ]
        },
        {
            "metadata": {},
            "cell_type": "code",
            "source": "def MinutestoHours(mins):\n    print(str(int(mins/60))+\" Hours \"+str(int((float(125/60)-int(120/60))*60))+\" Minutes\")\n\nMinutestoHours(125)",
            "execution_count": 12,
            "outputs": [
                {
                    "output_type": "stream",
                    "text": "2 Hours 5 Minutes\n",
                    "name": "stdout"
                }
            ]
        },
        {
            "metadata": {},
            "cell_type": "markdown",
            "source": "My Key take aways from the course:\n1. Data Science is an imporant subject for extracting insights.\n2. Understanding Data Science tools are fundamdental to know the landscape of the data science.\n3. Field is constantly evolving.\n4. Practicising in the only way forward for becoming expert."
        },
        {
            "metadata": {},
            "cell_type": "markdown",
            "source": "## AUTHOR\nARUN KOUNDINYA PARASA"
        },
        {
            "metadata": {},
            "cell_type": "code",
            "source": "",
            "execution_count": null,
            "outputs": []
        }
    ],
    "metadata": {
        "kernelspec": {
            "name": "python3",
            "display_name": "Python 3.10",
            "language": "python"
        },
        "language_info": {
            "name": "python",
            "version": "3.10.9",
            "mimetype": "text/x-python",
            "codemirror_mode": {
                "name": "ipython",
                "version": 3
            },
            "pygments_lexer": "ipython3",
            "nbconvert_exporter": "python",
            "file_extension": ".py"
        }
    },
    "nbformat": 4,
    "nbformat_minor": 1
}