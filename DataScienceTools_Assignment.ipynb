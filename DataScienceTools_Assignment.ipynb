{
    "cells": [
        {
            "metadata": {
                "collapsed": true
            },
            "cell_type": "markdown",
            "source": "# My Jupyter Notebook on IBM Watson Studio"
        },
        {
            "metadata": {},
            "cell_type": "markdown",
            "source": "**ARUN KOUNDINYA**<br>\nCurrent Occupation: Lead Campaigns<br>\nDesired Occupation: 100% Learner"
        },
        {
            "metadata": {},
            "cell_type": "markdown",
            "source": "*Iam interested in data science because it extracts information and knowledge in a quicker time*"
        },
        {
            "metadata": {},
            "cell_type": "markdown",
            "source": "### The code provides the output of the sum of natural numbers in sequence based on the input of final number"
        },
        {
            "metadata": {},
            "cell_type": "code",
            "source": "def apnaturalnum(n):\n    return n*(n+1)/2\n\napnaturalnum(int(input(\"Let the calculate the sum of first 'n' natural numbers until : \")))",
            "execution_count": 2,
            "outputs": [
                {
                    "output_type": "stream",
                    "name": "stdout",
                    "text": "Let the calculate the sum of first 'n' natural numbers until : 10\n"
                },
                {
                    "output_type": "execute_result",
                    "execution_count": 2,
                    "data": {
                        "text/plain": "55.0"
                    },
                    "metadata": {}
                }
            ]
        },
        {
            "metadata": {},
            "cell_type": "markdown",
            "source": "###### HorizonalLine\n---<br>\n###### Numbered List\n<ol>\n  <li>First</li>\n  <li>Second</li>\n  <li>Third</li>\n</ol>  \n\n###### Bullet List\n<ul>\n  <li>First</li>\n  <li>Second</li>\n  <li>Third</li>\n</ul>  \n\nMy Personal Blog :<a href=\"https://www.arunkoundinya.com\">arunkoundinya.com</a>"
        }
    ],
    "metadata": {
        "kernelspec": {
            "name": "python3",
            "display_name": "Python 3.10",
            "language": "python"
        },
        "language_info": {
            "name": "python",
            "version": "3.10.9",
            "mimetype": "text/x-python",
            "codemirror_mode": {
                "name": "ipython",
                "version": 3
            },
            "pygments_lexer": "ipython3",
            "nbconvert_exporter": "python",
            "file_extension": ".py"
        }
    },
    "nbformat": 4,
    "nbformat_minor": 1
}